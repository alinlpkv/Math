{
 "cells": [
  {
   "cell_type": "code",
   "execution_count": 1,
   "id": "6d47fb84",
   "metadata": {},
   "outputs": [],
   "source": [
    "# импортируем нужные библиотеки \n",
    "import pandas as pd\n",
    "import datetime as dt"
   ]
  },
  {
   "cell_type": "code",
   "execution_count": 55,
   "id": "68527410",
   "metadata": {},
   "outputs": [
    {
     "data": {
      "text/html": [
       "<div>\n",
       "<style scoped>\n",
       "    .dataframe tbody tr th:only-of-type {\n",
       "        vertical-align: middle;\n",
       "    }\n",
       "\n",
       "    .dataframe tbody tr th {\n",
       "        vertical-align: top;\n",
       "    }\n",
       "\n",
       "    .dataframe thead th {\n",
       "        text-align: right;\n",
       "    }\n",
       "</style>\n",
       "<table border=\"1\" class=\"dataframe\">\n",
       "  <thead>\n",
       "    <tr style=\"text-align: right;\">\n",
       "      <th></th>\n",
       "      <th>event_time</th>\n",
       "      <th>event_type</th>\n",
       "      <th>product_id</th>\n",
       "      <th>category_id</th>\n",
       "      <th>category_code</th>\n",
       "      <th>brand</th>\n",
       "      <th>price</th>\n",
       "      <th>user_id</th>\n",
       "      <th>user_session</th>\n",
       "    </tr>\n",
       "  </thead>\n",
       "  <tbody>\n",
       "    <tr>\n",
       "      <th>0</th>\n",
       "      <td>2019-12-01 00:00:00 UTC</td>\n",
       "      <td>remove_from_cart</td>\n",
       "      <td>5712790</td>\n",
       "      <td>1487580005268456287</td>\n",
       "      <td>NaN</td>\n",
       "      <td>f.o.x</td>\n",
       "      <td>6.27</td>\n",
       "      <td>576802932</td>\n",
       "      <td>51d85cb0-897f-48d2-918b-ad63965c12dc</td>\n",
       "    </tr>\n",
       "    <tr>\n",
       "      <th>1</th>\n",
       "      <td>2019-12-01 00:00:00 UTC</td>\n",
       "      <td>view</td>\n",
       "      <td>5764655</td>\n",
       "      <td>1487580005411062629</td>\n",
       "      <td>NaN</td>\n",
       "      <td>cnd</td>\n",
       "      <td>29.05</td>\n",
       "      <td>412120092</td>\n",
       "      <td>8adff31e-2051-4894-9758-224bfa8aec18</td>\n",
       "    </tr>\n",
       "    <tr>\n",
       "      <th>2</th>\n",
       "      <td>2019-12-01 00:00:02 UTC</td>\n",
       "      <td>cart</td>\n",
       "      <td>4958</td>\n",
       "      <td>1487580009471148064</td>\n",
       "      <td>NaN</td>\n",
       "      <td>runail</td>\n",
       "      <td>1.19</td>\n",
       "      <td>494077766</td>\n",
       "      <td>c99a50e8-2fac-4c4d-89ec-41c05f114554</td>\n",
       "    </tr>\n",
       "    <tr>\n",
       "      <th>3</th>\n",
       "      <td>2019-12-01 00:00:05 UTC</td>\n",
       "      <td>view</td>\n",
       "      <td>5848413</td>\n",
       "      <td>1487580007675986893</td>\n",
       "      <td>NaN</td>\n",
       "      <td>freedecor</td>\n",
       "      <td>0.79</td>\n",
       "      <td>348405118</td>\n",
       "      <td>722ffea5-73c0-4924-8e8f-371ff8031af4</td>\n",
       "    </tr>\n",
       "    <tr>\n",
       "      <th>4</th>\n",
       "      <td>2019-12-01 00:00:07 UTC</td>\n",
       "      <td>view</td>\n",
       "      <td>5824148</td>\n",
       "      <td>1487580005511725929</td>\n",
       "      <td>NaN</td>\n",
       "      <td>NaN</td>\n",
       "      <td>5.56</td>\n",
       "      <td>576005683</td>\n",
       "      <td>28172809-7e4a-45ce-bab0-5efa90117cd5</td>\n",
       "    </tr>\n",
       "  </tbody>\n",
       "</table>\n",
       "</div>"
      ],
      "text/plain": [
       "                event_time        event_type  product_id          category_id  \\\n",
       "0  2019-12-01 00:00:00 UTC  remove_from_cart     5712790  1487580005268456287   \n",
       "1  2019-12-01 00:00:00 UTC              view     5764655  1487580005411062629   \n",
       "2  2019-12-01 00:00:02 UTC              cart        4958  1487580009471148064   \n",
       "3  2019-12-01 00:00:05 UTC              view     5848413  1487580007675986893   \n",
       "4  2019-12-01 00:00:07 UTC              view     5824148  1487580005511725929   \n",
       "\n",
       "  category_code      brand  price    user_id  \\\n",
       "0           NaN      f.o.x   6.27  576802932   \n",
       "1           NaN        cnd  29.05  412120092   \n",
       "2           NaN     runail   1.19  494077766   \n",
       "3           NaN  freedecor   0.79  348405118   \n",
       "4           NaN        NaN   5.56  576005683   \n",
       "\n",
       "                           user_session  \n",
       "0  51d85cb0-897f-48d2-918b-ad63965c12dc  \n",
       "1  8adff31e-2051-4894-9758-224bfa8aec18  \n",
       "2  c99a50e8-2fac-4c4d-89ec-41c05f114554  \n",
       "3  722ffea5-73c0-4924-8e8f-371ff8031af4  \n",
       "4  28172809-7e4a-45ce-bab0-5efa90117cd5  "
      ]
     },
     "execution_count": 55,
     "metadata": {},
     "output_type": "execute_result"
    }
   ],
   "source": [
    "# загрузим файл с данными\n",
    "data = pd.read_csv('2019-Dec.csv')\n",
    "data.head()"
   ]
  },
  {
   "cell_type": "code",
   "execution_count": 56,
   "id": "4757fc16",
   "metadata": {},
   "outputs": [
    {
     "data": {
      "text/html": [
       "<div>\n",
       "<style scoped>\n",
       "    .dataframe tbody tr th:only-of-type {\n",
       "        vertical-align: middle;\n",
       "    }\n",
       "\n",
       "    .dataframe tbody tr th {\n",
       "        vertical-align: top;\n",
       "    }\n",
       "\n",
       "    .dataframe thead th {\n",
       "        text-align: right;\n",
       "    }\n",
       "</style>\n",
       "<table border=\"1\" class=\"dataframe\">\n",
       "  <thead>\n",
       "    <tr style=\"text-align: right;\">\n",
       "      <th></th>\n",
       "      <th>event_time</th>\n",
       "      <th>event_type</th>\n",
       "      <th>product_id</th>\n",
       "      <th>user_id</th>\n",
       "    </tr>\n",
       "  </thead>\n",
       "  <tbody>\n",
       "    <tr>\n",
       "      <th>0</th>\n",
       "      <td>2019-12-01</td>\n",
       "      <td>view</td>\n",
       "      <td>5764655</td>\n",
       "      <td>412120092</td>\n",
       "    </tr>\n",
       "    <tr>\n",
       "      <th>1</th>\n",
       "      <td>2019-12-01</td>\n",
       "      <td>view</td>\n",
       "      <td>5848413</td>\n",
       "      <td>348405118</td>\n",
       "    </tr>\n",
       "    <tr>\n",
       "      <th>2</th>\n",
       "      <td>2019-12-01</td>\n",
       "      <td>view</td>\n",
       "      <td>5824148</td>\n",
       "      <td>576005683</td>\n",
       "    </tr>\n",
       "    <tr>\n",
       "      <th>3</th>\n",
       "      <td>2019-12-01</td>\n",
       "      <td>view</td>\n",
       "      <td>5773361</td>\n",
       "      <td>560109803</td>\n",
       "    </tr>\n",
       "    <tr>\n",
       "      <th>4</th>\n",
       "      <td>2019-12-01</td>\n",
       "      <td>view</td>\n",
       "      <td>5807805</td>\n",
       "      <td>576005683</td>\n",
       "    </tr>\n",
       "  </tbody>\n",
       "</table>\n",
       "</div>"
      ],
      "text/plain": [
       "   event_time event_type  product_id    user_id\n",
       "0  2019-12-01       view     5764655  412120092\n",
       "1  2019-12-01       view     5848413  348405118\n",
       "2  2019-12-01       view     5824148  576005683\n",
       "3  2019-12-01       view     5773361  560109803\n",
       "4  2019-12-01       view     5807805  576005683"
      ]
     },
     "execution_count": 56,
     "metadata": {},
     "output_type": "execute_result"
    }
   ],
   "source": [
    "# возьмем информацию только по просмотрам и покупкам пользователей\n",
    "data = data[(data.event_type == 'purchase') | (data.event_type == 'view')]\n",
    "\n",
    "# оставим столбцы: время, тип действия, айди продукта, айди пользователя\n",
    "data = data[['event_time', 'event_type', 'product_id', 'user_id']].reset_index(drop=True)\n",
    "\n",
    "# поменяем формат даты и оставим только дату без времени\n",
    "data.event_time = pd.to_datetime(data.event_time)\n",
    "data.event_time = data.event_time.apply(lambda x: x.date())\n",
    "\n",
    "data.head()"
   ]
  },
  {
   "cell_type": "code",
   "execution_count": 57,
   "id": "7c5f2169",
   "metadata": {},
   "outputs": [],
   "source": [
    "# создадим две отдельные таблицы соответсвенно действиям пользователей  \n",
    "\n",
    "# просмотр товара\n",
    "# также удалим повторяющиеся строчки, потому что пользователь может несколько раз зайти на страничку с товаром\n",
    "df_view = data[['event_time', 'product_id', 'user_id']][data['event_type'] == 'view'].drop_duplicates()\n",
    "df_view.rename(columns = {'event_time':'date of view', 'product_id':'product_id', 'user_id': 'user_id'}, inplace = True )\n",
    "# покупка товара\n",
    "df_buy = data[['event_time', 'product_id', 'user_id']][data['event_type'] == 'purchase']\n",
    "df_buy.rename(columns = {'event_time':'date of bought', 'product_id':'product_id', 'user_id': 'user_id'}, inplace = True )\n",
    "\n",
    "\n",
    "# соединим две таблицу по двум ключам: айди товара и айди пользователя\n",
    "df = df_view.merge(df_buy, on=['product_id', 'user_id'])\n",
    "df.drop_duplicates(subset=['date of bought', 'product_id', 'user_id'], inplace=True)\n",
    "df.drop_duplicates(subset=['date of view', 'product_id', 'user_id'], inplace=True)\n",
    "# если пользователь только посмотрел товар, но не купил, удаляем его из таблицы\n",
    "df = df.drop(df[(df['date of bought']-df['date of view']) < dt.timedelta(0)].index)"
   ]
  },
  {
   "cell_type": "code",
   "execution_count": 60,
   "id": "9d049ae3",
   "metadata": {},
   "outputs": [],
   "source": [
    "# создадим таблицу уже непосредственно для когортного анализа\n",
    "# добавим дату просмотора товара\n",
    "df_cohort = pd.DataFrame([])\n",
    "df_cohort['date of view'] = df['date of view']\n",
    "# и столбец с разницей в днях между просмотром и покупкой товара\n",
    "df_cohort['day of bought after view'] = df['date of bought'] - df['date of view']\n",
    "\n",
    "# добавим последний столбец\n",
    "# 'count of view-buy' - кол-во уникальных сочетаний пользователь-продукт \n",
    "# для определенной даты просмотра продукта и кол-ва дней после просмотра, когда он купил этот товар\n",
    "# цифра 1 означает, что пользователь купил товар, а так как каждая строчка таблицы содержит дату с датой покупки\n",
    "# то везде ставим 1 \n",
    "df_cohort['count of view-buy'] = 1\n",
    "df_cohort = df_cohort.groupby(['date of view', 'day of bought after view']).agg(total_bought=('count of view-buy', 'sum')).reset_index(drop=False)"
   ]
  },
  {
   "cell_type": "code",
   "execution_count": 61,
   "id": "a05a632d",
   "metadata": {},
   "outputs": [],
   "source": [
    "df_cohort.to_excel('cosmentics.xlsx')"
   ]
  },
  {
   "cell_type": "code",
   "execution_count": null,
   "id": "11d1e721",
   "metadata": {},
   "outputs": [],
   "source": [
    "# d = pd.read_csv('2019-Dec.csv')\n",
    "# d[(d.user_id == 572081598) & (d.product_id == 5809910)]"
   ]
  },
  {
   "cell_type": "code",
   "execution_count": 69,
   "id": "0e1f5d32",
   "metadata": {},
   "outputs": [
    {
     "data": {
      "text/html": [
       "<div>\n",
       "<style scoped>\n",
       "    .dataframe tbody tr th:only-of-type {\n",
       "        vertical-align: middle;\n",
       "    }\n",
       "\n",
       "    .dataframe tbody tr th {\n",
       "        vertical-align: top;\n",
       "    }\n",
       "\n",
       "    .dataframe thead th {\n",
       "        text-align: right;\n",
       "    }\n",
       "</style>\n",
       "<table border=\"1\" class=\"dataframe\">\n",
       "  <thead>\n",
       "    <tr style=\"text-align: right;\">\n",
       "      <th></th>\n",
       "      <th>date of view</th>\n",
       "      <th>product_id</th>\n",
       "      <th>user_id</th>\n",
       "    </tr>\n",
       "  </thead>\n",
       "  <tbody>\n",
       "  </tbody>\n",
       "</table>\n",
       "</div>"
      ],
      "text/plain": [
       "Empty DataFrame\n",
       "Columns: [date of view, product_id, user_id]\n",
       "Index: []"
      ]
     },
     "execution_count": 69,
     "metadata": {},
     "output_type": "execute_result"
    }
   ],
   "source": [
    "df_view[df_view['date of view'] == '2019-12-01']"
   ]
  },
  {
   "cell_type": "code",
   "execution_count": 70,
   "id": "3b2fbc8f",
   "metadata": {},
   "outputs": [
    {
     "name": "stdout",
     "output_type": "stream",
     "text": [
      "<class 'pandas.core.frame.DataFrame'>\n",
      "Int64Index: 1397937 entries, 0 to 1941506\n",
      "Data columns (total 3 columns):\n",
      " #   Column        Non-Null Count    Dtype \n",
      "---  ------        --------------    ----- \n",
      " 0   date of view  1397937 non-null  object\n",
      " 1   product_id    1397937 non-null  int64 \n",
      " 2   user_id       1397937 non-null  int64 \n",
      "dtypes: int64(2), object(1)\n",
      "memory usage: 42.7+ MB\n"
     ]
    }
   ],
   "source": [
    "df_view.info()"
   ]
  },
  {
   "cell_type": "code",
   "execution_count": null,
   "id": "465eb644",
   "metadata": {},
   "outputs": [],
   "source": []
  }
 ],
 "metadata": {
  "kernelspec": {
   "display_name": "Python 3 (ipykernel)",
   "language": "python",
   "name": "python3"
  },
  "language_info": {
   "codemirror_mode": {
    "name": "ipython",
    "version": 3
   },
   "file_extension": ".py",
   "mimetype": "text/x-python",
   "name": "python",
   "nbconvert_exporter": "python",
   "pygments_lexer": "ipython3",
   "version": "3.10.4"
  }
 },
 "nbformat": 4,
 "nbformat_minor": 5
}
